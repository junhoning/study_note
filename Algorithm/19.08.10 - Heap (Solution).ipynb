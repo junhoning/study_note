{
 "cells": [
  {
   "cell_type": "markdown",
   "metadata": {},
   "source": [
    "# Q1. K Closest Points to Origin\n",
    "https://leetcode.com/problems/k-closest-points-to-origin/"
   ]
  },
  {
   "cell_type": "markdown",
   "metadata": {},
   "source": [
    "We have a list of points on the plane.  Find the K closest points to the origin (0, 0).  \n",
    "(Here, the distance between two points on a plane is the Euclidean distance.)  \n",
    "You may return the answer in any order.  The answer is guaranteed to be unique (except for the order that it is in.)  "
   ]
  },
  {
   "cell_type": "code",
   "execution_count": null,
   "metadata": {},
   "outputs": [],
   "source": [
    "import heapq\n",
    "\n",
    "class Solution(object):\n",
    "    def kClosest(self, points, K):\n",
    "        \"\"\"\n",
    "        :type points: List[List[int]]\n",
    "        :type K: int\n",
    "        :rtype: List[List[int]]\n",
    "        \"\"\"\n",
    "        # 전략: 거리를 Dictionary의 Key로 넣고, 가장 낮은 값을 key로 가진 point들을 반환\n",
    "        \n",
    "        pts = {}  # 후보거리: key에는 계산한 '거리', value에는 '좌표'를 담음\n",
    "        heap = []  # heap을 통해 가장 낮은 값을 찾기\n",
    "        dist = lambda x: x[0]**2 + x[1]**2  # 유클리디안 거리를 구하기 위한 함수\n",
    "        \n",
    "        for pt in points:\n",
    "            d = dist(pt)  # 받은 points에서 거리를 잼\n",
    "            heapq.heappush(heap, d)  # 받은 거리를 하나씩 heap에 push  (맨 앞에는 자연스럽게 min 값)\n",
    "            \n",
    "            # 같은 거리에 있는 포인트는 하나가 없어지는 문제 때문에 따로 분리\n",
    "            if d not in pts:\n",
    "                pts[d] = [pt]  # 잰 거리가 후보거리에 없으면 새로 dict 생성 \n",
    "            else:\n",
    "                pts[d] = pts[d] + [pt]  # 'distance': [(1,0),(0,1)] 후보거리에 있으면 포인트를 새롭게 추가 \n",
    "        \n",
    "        target_pts = []  # 정답으로 내놓을 값들을 담을 것임\n",
    "        while len(target_pts) < K:  # K 개수 만큼 채워지면 탈출\n",
    "            tar_key = heapq.heappop(heap)  # heappop을 한번씩 사용하면 가장 낮은 값부터 나옴\n",
    "            for pt in pts[tar_key]:  # for문을 사용하여, 1개 있을 땐 1개만 들어가지만, 2개 이상이면 그 만큼 target_pt에 저장\n",
    "                target_pts.append(pt)  # 즉, K 갯수 만큼 target_pts가 채워지고 while이 끝남\n",
    "            \n",
    "        return target_pts\n"
   ]
  },
  {
   "cell_type": "markdown",
   "metadata": {},
   "source": [
    "# Q2. Merge k Sorted Lists\n",
    "https://leetcode.com/problems/merge-k-sorted-lists/"
   ]
  },
  {
   "cell_type": "markdown",
   "metadata": {},
   "source": [
    "Merge k sorted linked lists and return it as one sorted list. Analyze and describe its complexity."
   ]
  },
  {
   "cell_type": "code",
   "execution_count": 1,
   "metadata": {},
   "outputs": [],
   "source": [
    "# Definition for singly-linked list.\n",
    "class ListNode(object):\n",
    "    def __init__(self, x):\n",
    "        self.val = x\n",
    "        self.next = None\n",
    "\n",
    "import heapq\n",
    "\n",
    "class Solution(object):\n",
    "    def mergeKLists(self, lists):\n",
    "        \"\"\"\n",
    "        :type lists: List[ListNode\n",
    "        :rtype: ListNode\n",
    "        \"\"\"\n",
    "        # 전략: heap에 하나씩 넣고 다시 빼면 저절로 가장 낮은 값부터 순서대로 나오게 될 것임\n",
    "        heap = []\n",
    "\n",
    "        for head in lists:\n",
    "            while head:\n",
    "                heapq.heappush(heap, head.val)  # lists 안 list의 값들을 하나씩 heap 넣어줌 (이때 자연스럽게 낮은 값이 맨 앞)\n",
    "                head = head.next  # 앞의 역할 끝나면 다음 listnode로 이동\n",
    "\n",
    "        if heap:  # list가 비어있지 않다면 heap 채워져있을 거임\n",
    "            node = head = ListNode(heapq.heappop(heap))\n",
    "            while heap:\n",
    "                val = heapq.heappop(heap)  # heap에서 하나씩 꺼내면 자연스럽게 최소값이 나올 것이고, \n",
    "                node.next = ListNode(val)  # 그 최소값 순서대로 LIstNode에 담기게 될 것임\n",
    "                node = node.next\n",
    "                \n",
    "            return head\n",
    "        else:\n",
    "            return None  # lists가 비어있다면 None으로 return 해줘야함\n"
   ]
  },
  {
   "cell_type": "markdown",
   "metadata": {},
   "source": [
    "# Q3. Find Median from Data Stream\n",
    "https://leetcode.com/problems/find-median-from-data-stream/"
   ]
  },
  {
   "cell_type": "code",
   "execution_count": 2,
   "metadata": {},
   "outputs": [],
   "source": [
    "# # Your MedianFinder object will be instantiated and called as such:\n",
    "# # obj = MedianFinder()\n",
    "# # obj.addNum(num)\n",
    "# # param_2 = obj.findMedian()\n",
    "\n",
    "# import heapq\n",
    "\n",
    "# class MedianFinder(object):\n",
    "#     def __init__(self):\n",
    "#         \"\"\"\n",
    "#         initialize your data structure here.\n",
    "#         \"\"\"\n",
    "#         self.heap = []\n",
    "        \n",
    "#     def addNum(self, num):\n",
    "#         \"\"\"\n",
    "#         :type num: int\n",
    "#         :rtype: None\n",
    "#         \"\"\"\n",
    "#         heapq.heappush(self.heap, num)  # 추가 하더라도 어느 정도 순서 유지\n",
    "    \n",
    "#     def findMedian(self):\n",
    "#         \"\"\"\n",
    "#         :rtype: float\n",
    "#         \"\"\"\n",
    "#         heap_len = len(self.heap)  # \n",
    "#         heap_idx = heap_len // 2  # Median 값 찾기 \n",
    "        \n",
    "#         exp_heap = []\n",
    "#         for v in [-1, -2, -3, -4, -5]:\n",
    "#             exp_heap.append(v)\n",
    "#             idx = len(exp_heap)//2\n",
    "#             if len(exp_heap) % 2:\n",
    "#                 print(exp_heap[idx], idx, exp_heap)\n",
    "        \n",
    "#         if heap_len % 2:  # odd number\n",
    "#             print(heap_idx, self.heap, self.heap[heap_idx], 3//2, 5//2, 7//2)\n",
    "#             return self.heap[heap_idx]\n",
    "\n",
    "#         else:  # even number\n",
    "#             print(heap_idx, self.heap, (self.heap[heap_idx-1] + self.heap[heap_idx])/2.)\n",
    "#             return (self.heap[heap_idx-1] + self.heap[heap_idx]) / 2."
   ]
  },
  {
   "cell_type": "markdown",
   "metadata": {},
   "source": [
    "# Q4. Kth Largest Element in an Array\n",
    "https://leetcode.com/problems/kth-largest-element-in-an-array/"
   ]
  },
  {
   "cell_type": "markdown",
   "metadata": {},
   "source": [
    "Find the kth largest element in an unsorted array. Note that it is the kth largest element in the sorted order, not the kth distinct element."
   ]
  },
  {
   "cell_type": "code",
   "execution_count": 3,
   "metadata": {},
   "outputs": [],
   "source": [
    "import heapq\n",
    "\n",
    "class Solution(object):\n",
    "    def findKthLargest(self, nums, k):\n",
    "        \"\"\"\n",
    "        :type nums: List[int]\n",
    "        :type k: int\n",
    "        :rtype: int\n",
    "        \"\"\"\n",
    "        \n",
    "        # 전략: 전형적인 heap을 이용한 sort heap. Heap으로 sort list만 만들 줄 알면 됨 \n",
    "        heap = []\n",
    "        for n in nums:\n",
    "            heapq.heappush(heap, n)  # nums에서 받은 값들을 heap에 넣음\n",
    "        \n",
    "        sorted_nums = []\n",
    "        \n",
    "        while heap:\n",
    "            sorted_nums.append(heapq.heappop(heap))  # sorted_nums에 heap에서 가장 낮은 값부터 들어가게 됨\n",
    "        \n",
    "        return sorted_nums[-k]  # 마지막 k 값의 값을 불러오면 됨\n"
   ]
  },
  {
   "cell_type": "markdown",
   "metadata": {},
   "source": [
    "# Q5. Two Sum\t\n",
    "https://leetcode.com/problems/two-sum"
   ]
  },
  {
   "cell_type": "markdown",
   "metadata": {},
   "source": [
    "Given an array of integers, return indices of the two numbers such that they add up to a specific target.\n",
    "\n",
    "You may assume that each input would have exactly one solution, and you may not use the same element twice."
   ]
  },
  {
   "cell_type": "markdown",
   "metadata": {},
   "source": [
    "nums 중에서 두개를 골라 더했을 때 target 값이 나오면, 그 두개를 반환"
   ]
  },
  {
   "cell_type": "code",
   "execution_count": 4,
   "metadata": {},
   "outputs": [],
   "source": [
    "class Solution(object):\n",
    "    def twoSum(self, nums, target):\n",
    "        \"\"\"\n",
    "        :type nums: List[int]\n",
    "        :type target: int\n",
    "        :rtype: List[int]\n",
    "        \"\"\"\n",
    "        # 전략: nums 중 하나를 봤을 때. 그 하나를 target에 뺀 값이 다른 nums에 담겨있으면 그걸 찾으면 됨\n",
    "        for i, n in enumerate(nums):\n",
    "            t = target - n  # 예로 target이 9이고, 지금 본 값이 5라고 하면, list 안에 4가 있는지 확인\n",
    "                        \n",
    "            if t in nums:  # target을 뺀 값이 있는지 확인\n",
    "                if i != nums.index(t):  # 자신의 위치는 제외해야함\n",
    "                    return [i, nums.index(t)]  # 앞의 조건이 다 맞으면 찾은 것임"
   ]
  },
  {
   "cell_type": "markdown",
   "metadata": {},
   "source": [
    "# Q6. Group Anagrams\n",
    "https://leetcode.com/problems/group-anagrams/"
   ]
  },
  {
   "cell_type": "markdown",
   "metadata": {},
   "source": [
    "Anagrams란 'abc', 'bca', 'cba' 처럼 철자들을 분리하여 새로운 단어로 만드는 놀이  \n",
    "예로 'abc'와 'cba'는 같지만, 'ebc'는 다름"
   ]
  },
  {
   "cell_type": "code",
   "execution_count": 5,
   "metadata": {},
   "outputs": [],
   "source": [
    "class Solution(object):\n",
    "    def groupAnagrams(self, strs):\n",
    "        \"\"\"\n",
    "        :type strs: List[str]\n",
    "        :rtype: List[List[str]]\n",
    "        \"\"\"\n",
    "        # \n",
    "        words = {}\n",
    "        for word in strs:\n",
    "            ord_word = ''.join(sorted(list(word)))  # 각 글자들 안에 있는 알파벳들을 정렬\n",
    "            if ord_word in words:\n",
    "                words[ord_word].append(word)  # 정렬된 값이 이미 있으면, 그 정렬된 숫자 dict에 넣고, \n",
    "            else:\n",
    "                words[ord_word] = [word]  # 정렬된 값이 없으면 새롭게 key로 만듬\n",
    "        \n",
    "        return list(words.values())  # 정렬된 key는 빼고, values들끼리만 묶어줌"
   ]
  },
  {
   "cell_type": "markdown",
   "metadata": {},
   "source": [
    "# Q10. Insert Delete GetRandom O(1)"
   ]
  },
  {
   "cell_type": "markdown",
   "metadata": {},
   "source": [
    "Design a data structure that supports all following operations in average O(1) time.\n",
    "\n",
    "1. insert(val): Inserts an item val to the set if not already present.\n",
    "2. remove(val): Removes an item val from the set if present.\n",
    "3. getRandom: Returns a random element from current set of elements. Each element must have the same probability of being returned."
   ]
  },
  {
   "cell_type": "markdown",
   "metadata": {},
   "source": [
    "딱히 설명이 필요없어 보일 정도로 난이도가 낮음"
   ]
  },
  {
   "cell_type": "code",
   "execution_count": null,
   "metadata": {},
   "outputs": [],
   "source": [
    "import random\n",
    "\n",
    "class RandomizedSet(object):\n",
    "\n",
    "    def __init__(self):\n",
    "        \"\"\"\n",
    "        Initialize your data structure here.\n",
    "        \"\"\"\n",
    "        self.data = []\n",
    "        \n",
    "\n",
    "    def insert(self, val):\n",
    "        \"\"\"\n",
    "        Inserts a value to the set. Returns true if the set did not already contain the specified element.\n",
    "        :type val: int\n",
    "        :rtype: bool\n",
    "        \"\"\"\n",
    "        if val not in self.data:\n",
    "            self.data.append(val)\n",
    "            return True\n",
    "        else:\n",
    "            return False\n",
    "\n",
    "    def remove(self, val):\n",
    "        \"\"\"\n",
    "        Removes a value from the set. Returns true if the set contained the specified element.\n",
    "        :type val: int\n",
    "        :rtype: bool\n",
    "        \"\"\"\n",
    "        if val in self.data:\n",
    "            self.data.remove(val)\n",
    "            return True\n",
    "        else:\n",
    "            return False\n",
    "        \n",
    "    def getRandom(self):\n",
    "        \"\"\"\n",
    "        Get a random element from the set.\n",
    "        :rtype: int\n",
    "        \"\"\"\n",
    "        data_len = len(self.data)\n",
    "        if data_len:\n",
    "            rand_idx = random.randint(0, data_len-1)\n",
    "            return self.data[rand_idx]\n",
    "        else:\n",
    "            return None\n",
    "\n",
    "# Your RandomizedSet object will be instantiated and called as such:\n",
    "# obj = RandomizedSet()\n",
    "# param_1 = obj.insert(val)\n",
    "# param_2 = obj.remove(val)\n",
    "# param_3 = obj.getRandom()"
   ]
  }
 ],
 "metadata": {
  "kernelspec": {
   "display_name": "Python 3",
   "language": "python",
   "name": "python3"
  },
  "language_info": {
   "codemirror_mode": {
    "name": "ipython",
    "version": 3
   },
   "file_extension": ".py",
   "mimetype": "text/x-python",
   "name": "python",
   "nbconvert_exporter": "python",
   "pygments_lexer": "ipython3",
   "version": "3.6.8"
  }
 },
 "nbformat": 4,
 "nbformat_minor": 2
}
